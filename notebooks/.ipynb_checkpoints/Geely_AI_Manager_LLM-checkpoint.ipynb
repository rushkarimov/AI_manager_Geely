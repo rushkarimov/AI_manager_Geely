{
 "cells": [
  {
   "cell_type": "code",
   "execution_count": 1,
   "id": "eac343a8-565c-4715-b1c8-797d8cb9ac99",
   "metadata": {},
   "outputs": [],
   "source": [
    "import pandas as pd\n",
    "import seaborn as sns\n",
    "import matplotlib.pyplot as plt\n",
    "\n",
    "from sklearn.manifold import TSNE\n",
    "import umap.umap_ as umap\n",
    "\n",
    "from langchain_openai import ChatOpenAI\n",
    "from langchain.prompts import PromptTemplate\n",
    "\n",
    "from langchain.document_loaders import DataFrameLoader\n",
    "from langchain_community.vectorstores import FAISS\n",
    "from langchain.embeddings import HuggingFaceEmbeddings\n",
    "from langchain.retrievers import BM25Retriever, EnsembleRetriever\n",
    "\n",
    "from huggingface_hub import InferenceClient\n",
    "from langchain import hub\n",
    "\n",
    "from langchain.tools.retriever import create_retriever_tool\n",
    "from langchain.agents import create_openai_tools_agent, create_react_agent, create_openai_tools_agent\n",
    "from langchain.agents.agent import AgentExecutor\n",
    "from langchain.memory import ConversationBufferMemory\n",
    "\n",
    "from langchain_core.prompts.prompt import PromptTemplate\n",
    "from langchain_core.prompts.chat import SystemMessagePromptTemplate\n",
    "from langchain_core.prompts.chat import MessagesPlaceholder\n",
    "from langchain_core.prompts.chat import HumanMessagePromptTemplate\n",
    "\n",
    "from langchain.chains import LLMChain\n",
    "from langchain.prompts import FewShotPromptTemplate, PromptTemplate\n",
    "from langchain.chat_models import ChatOpenAI\n",
    "from langchain.vectorstores import FAISS\n",
    "from langchain.memory import ConversationBufferMemory"
   ]
  },
  {
   "cell_type": "markdown",
   "id": "09e03d05-867a-4435-8af1-39adba40a97a",
   "metadata": {},
   "source": [
    "# 1. Инициализация LLM"
   ]
  },
  {
   "cell_type": "code",
   "execution_count": 3,
   "id": "7ffe051b-487e-4251-8bde-01fabfcff036",
   "metadata": {},
   "outputs": [
    {
     "name": "stderr",
     "output_type": "stream",
     "text": [
      "/var/folders/st/jzl5rql56g1d_wr0j9xf4ps40000gn/T/ipykernel_99970/1620874363.py:1: LangChainDeprecationWarning: The class `ChatOpenAI` was deprecated in LangChain 0.0.10 and will be removed in 1.0. An updated version of the class exists in the :class:`~langchain-openai package and should be used instead. To use it run `pip install -U :class:`~langchain-openai` and import as `from :class:`~langchain_openai import ChatOpenAI``.\n",
      "  llm = ChatOpenAI(base_url=base_url, # Введите http ссылку на порт с локально развернутой LLM\n"
     ]
    }
   ],
   "source": [
    "llm = ChatOpenAI(base_url=base_url, # Введите http ссылку на порт с локально развернутой LLM\n",
    "                 api_key=api_key # Введите API ключ\n",
    "                ) "
   ]
  },
  {
   "cell_type": "markdown",
   "id": "2437d82a-b0bf-4e70-9b29-7e4f96d7ef24",
   "metadata": {},
   "source": [
    "## 1.1 Проверка базовой LLM"
   ]
  },
  {
   "cell_type": "code",
   "execution_count": 4,
   "id": "5efc16e1-fb28-4137-81bb-f21090b981bc",
   "metadata": {},
   "outputs": [],
   "source": [
    "template = \"\"\"Вопрос: {question}\n",
    "Ответ: Дай короткий ответ из 4-5 слов на Русском языке\"\"\"\n",
    "\n",
    "prompt = PromptTemplate(template=template, input_variables=[\"question\"])\n",
    "\n",
    "llm_chain = prompt | llm\n",
    "\n",
    "question = \"Когда человек первый раз полетел в космос?\""
   ]
  },
  {
   "cell_type": "code",
   "execution_count": 5,
   "id": "3c5759fa-de74-44c6-87db-20f43ef39249",
   "metadata": {},
   "outputs": [
    {
     "name": "stdout",
     "output_type": "stream",
     "text": [
      "Первый человек, который полетел в космос, был советский космонавт Юрий Алексеевич Гагарин. Он поднялся на высоту 327 километров над поверхностью Земли на борту космического корабля \"Восток-1\" 12 апреля 1961 года.\n",
      "\n",
      "Юрий Гагарин пробыл в космосе 108 минут и стал первым человеком, который увидел Землю из космоса. Этот исторический полет открыл путь для развития космонавтики и человечества на новые горизонты.\n"
     ]
    }
   ],
   "source": [
    "print(llm.invoke(question).content)"
   ]
  },
  {
   "cell_type": "markdown",
   "id": "623f1348-c5bb-4d8a-b0b3-b02789b2a8ab",
   "metadata": {},
   "source": [
    "# 2. Создание RAG"
   ]
  },
  {
   "cell_type": "markdown",
   "id": "104477c7-c2f1-4f61-bf86-7ccf4e5b0d26",
   "metadata": {},
   "source": [
    "## 2.1 Загрузка DataFrame"
   ]
  },
  {
   "cell_type": "code",
   "execution_count": 6,
   "id": "5b6d0db6-b31a-4484-af4c-de9a2e09737b",
   "metadata": {},
   "outputs": [],
   "source": [
    "# Загрузка документа в Pandas\n",
    "doc = pd.read_excel(\"Geely_vetros.xlsx\")"
   ]
  },
  {
   "cell_type": "code",
   "execution_count": 7,
   "id": "f6ae03d5-24d2-4d7f-a4be-414b2fa3b332",
   "metadata": {},
   "outputs": [
    {
     "data": {
      "text/html": [
       "<div>\n",
       "<style scoped>\n",
       "    .dataframe tbody tr th:only-of-type {\n",
       "        vertical-align: middle;\n",
       "    }\n",
       "\n",
       "    .dataframe tbody tr th {\n",
       "        vertical-align: top;\n",
       "    }\n",
       "\n",
       "    .dataframe thead th {\n",
       "        text-align: right;\n",
       "    }\n",
       "</style>\n",
       "<table border=\"1\" class=\"dataframe\">\n",
       "  <thead>\n",
       "    <tr style=\"text-align: right;\">\n",
       "      <th></th>\n",
       "      <th>Text</th>\n",
       "    </tr>\n",
       "  </thead>\n",
       "  <tbody>\n",
       "    <tr>\n",
       "      <th>0</th>\n",
       "      <td>История компании Geely:\\nZhejiang Geely Holdin...</td>\n",
       "    </tr>\n",
       "    <tr>\n",
       "      <th>1</th>\n",
       "      <td>Видение Geely:\\nТак в китайском поэтическом ст...</td>\n",
       "    </tr>\n",
       "    <tr>\n",
       "      <th>2</th>\n",
       "      <td>Наша Миссия: Создавать впечатления от вождения...</td>\n",
       "    </tr>\n",
       "    <tr>\n",
       "      <th>3</th>\n",
       "      <td>Ценности Geely:\\n1997\\nОснование Geely Auto. К...</td>\n",
       "    </tr>\n",
       "    <tr>\n",
       "      <th>4</th>\n",
       "      <td>Инновации Geely\\n- Эра 4.0:\\nВ феврале 2021 г....</td>\n",
       "    </tr>\n",
       "  </tbody>\n",
       "</table>\n",
       "</div>"
      ],
      "text/plain": [
       "                                                Text\n",
       "0  История компании Geely:\\nZhejiang Geely Holdin...\n",
       "1  Видение Geely:\\nТак в китайском поэтическом ст...\n",
       "2  Наша Миссия: Создавать впечатления от вождения...\n",
       "3  Ценности Geely:\\n1997\\nОснование Geely Auto. К...\n",
       "4  Инновации Geely\\n- Эра 4.0:\\nВ феврале 2021 г...."
      ]
     },
     "execution_count": 7,
     "metadata": {},
     "output_type": "execute_result"
    }
   ],
   "source": [
    "# Вывод первых 5-ти текстов\n",
    "doc[:5]"
   ]
  },
  {
   "cell_type": "code",
   "execution_count": 8,
   "id": "8e37c7a5-3c10-48d6-b164-8d348a81e83e",
   "metadata": {},
   "outputs": [],
   "source": [
    "# Загрузка DataFrame в loader\n",
    "loader = DataFrameLoader(doc, page_content_column=\"Text\")\n",
    "documents = loader.load()"
   ]
  },
  {
   "cell_type": "code",
   "execution_count": 9,
   "id": "37746b09-66b4-46fb-ab63-971f94ae6fa9",
   "metadata": {
    "scrolled": true
   },
   "outputs": [
    {
     "data": {
      "text/plain": [
       "Document(metadata={}, page_content='Технологии Geely:\\n- Intec:\\nВ прошлом массовые автомобили считались просто средством передвижения, но сегодня они превратились во что-то большее, став неотъемлемой частью жизни людей. Современный человек проводит все больше времени в автомобиле, поэтому Geely разработал технологии iNTEC, чтобы улучшить качество жизни людей и их опыт вождения.\\nТехнологии iNTEC создаются на основе концепции интеллектуального вождения с целью повышения безопасности и удобства пассажиров. iN в iNTEC можно интерпретировать как Intelligent, Integrated и In-Trend (т.е. умные, интегрированные, в тренде), а TEC представляет новую технику и технологии для улучшения жизни людей.\\nПять передовых технологических направлений составляют iNTEC:\\nбезопасность (активная и пассивная);\\nсвязь (телематика, онлайн-сервисы);\\nэффективные силовые установки (экономичность, экология);\\nвнутренняя среда автомобиля (комфорт, здоровая атмосфера);\\nавтономное вождение (ассистенты ADAS).\\n - Турбомоторы:\\nИнновационная стратегия Geely 4.0 ориентирована на внедрение самых передовых технологий, направленных на снижение расхода топлива и вредных выбросов в атмосферу. Это предполагает полный переход на высокоэффективные турбомоторы нового поколения, разработанные совместно с Volvo.\\nВ современных моделях Geely в основном используются турбонаддувные бензиновые двигатели рабочим объемом 1,5 л (147-177 л. с.) и 2,0 л (199-238 л. с.). Благодаря непосредственному впрыску топлива под высоким давлением они очень экономичны, а применение низкоинерционных турбин позволило практически избавиться от эффекта «турбоямы».\\n - Cистема «Мягкого гибрида» 48V EMS:\\nВ полноприводном Geely Atlas Pro применена инновационная система мягкого гибрида 48V EMS (Electric Motor Synergy). В её состав входят приводной стартер-генератор, конвертер, 48-вольтовая литий-ионная батарея и блок управления рекуперацией. В определенных режимах движения система улучшает разгонную динамику автомобиля за счет дополнительного крутящего момента, а также обеспечивает экономию топлива. Батарея заряжается автоматически при работе двигателя внутреннего сгорания и в режиме рекуперации энергии при торможении. Система обладает функцией «старт-стоп», которая выключает и мгновенно запускает двигатель в пробках, а также поддерживает экономичный режим движения накатом.\\n- Cистемы безопасности и помощи водителю:\\nРазнообразные системы активной и пассивной безопасности автомобилей Geely, разработанные по высоким стандартам и с учетом опыта Volvo, условно объединены под названием G-Safety. Сюда входят многочисленные ассистенты водителя, а также системы мониторинга пространства вокруг автомобиля с помощью камер и радаров, системы, обеспечивающие комфортное и безопасное вождение, системы, предотвращающие столкновения, а также защищающие водителя и пассажиров от травм, если аварийная ситуация все-таки произошла.\\nСовременные модели Geely оснащаются системами комплекса G-Safety (ADAS 2-го уровня).\\nПримеры:\\nСистема автоторможения;\\nАктивный круиз-контроль;\\nСистемы слежения за разметкой и удержания в полосе;\\nПроектор на лобовое стекло;\\nСистемы обеспечения курсовой устойчивости;\\nНадувные подушки и шторки безопасности;\\nКузов с запрограммированными зонами деформации и применением высокопрочных сталей;\\nПарковочный ассистент;\\nСистема кругового обзора 360.')"
      ]
     },
     "execution_count": 9,
     "metadata": {},
     "output_type": "execute_result"
    }
   ],
   "source": [
    "# просмтр 5-го документа\n",
    "documents[5]"
   ]
  },
  {
   "cell_type": "markdown",
   "id": "27a05da4-66b4-4bf7-987c-967ee5c38ddc",
   "metadata": {},
   "source": [
    "## 2.2 Создание эмбедингов"
   ]
  },
  {
   "cell_type": "code",
   "execution_count": 10,
   "id": "3a81cd24-61ee-4a83-a86e-2161c12325ac",
   "metadata": {},
   "outputs": [
    {
     "name": "stderr",
     "output_type": "stream",
     "text": [
      "/var/folders/st/jzl5rql56g1d_wr0j9xf4ps40000gn/T/ipykernel_99970/2896944004.py:2: LangChainDeprecationWarning: The class `HuggingFaceEmbeddings` was deprecated in LangChain 0.2.2 and will be removed in 1.0. An updated version of the class exists in the :class:`~langchain-huggingface package and should be used instead. To use it run `pip install -U :class:`~langchain-huggingface` and import as `from :class:`~langchain_huggingface import HuggingFaceEmbeddings``.\n",
      "  embeddings_model = HuggingFaceEmbeddings(model_name=\"cointegrated/LaBSE-en-ru\")\n"
     ]
    }
   ],
   "source": [
    "# Загрузка модели для векторизации текста из HuggingFace\n",
    "embeddings_model = HuggingFaceEmbeddings(model_name=\"cointegrated/LaBSE-en-ru\")\n",
    "\n",
    "# Создание эмбендингов с помощью FAISS\n",
    "db_embed = FAISS.from_documents(documents, embeddings_model)\n",
    "\n",
    "# Создание ретривера\n",
    "retriever = db_embed.as_retriever(search_type=\"similarity\",  # тип поиска похожих документов\n",
    "                                  k=5,  # количество возвращаемых документов (Default: 4)\n",
    "                                  score_threshold=None,  # минимальный порог для поиска \"similarity_score_threshold\"\n",
    "                                 )"
   ]
  },
  {
   "cell_type": "markdown",
   "id": "a625abac-d179-4f12-9761-52dc54030a1a",
   "metadata": {},
   "source": [
    "## 2.3 Визуализация эмбедингов"
   ]
  },
  {
   "cell_type": "code",
   "execution_count": 11,
   "id": "0a66cc3b-a6ea-4063-8a6e-f9b19815bab5",
   "metadata": {},
   "outputs": [
    {
     "name": "stderr",
     "output_type": "stream",
     "text": [
      "huggingface/tokenizers: The current process just got forked, after parallelism has already been used. Disabling parallelism to avoid deadlocks...\n",
      "To disable this warning, you can either:\n",
      "\t- Avoid using `tokenizers` before the fork if possible\n",
      "\t- Explicitly set the environment variable TOKENIZERS_PARALLELISM=(true | false)\n"
     ]
    },
    {
     "data": {
      "image/png": "[encoded data removed]",
      "text/plain": [
       "<Figure size 1200x1200 with 1 Axes>"
      ]
     },
     "metadata": {},
     "output_type": "display_data"
    }
   ],
   "source": [
    "# 1. Извлечение векторов из FAISS\n",
    "def extract_vectors_from_faiss(db_embed):\n",
    "    \"\"\"\n",
    "    Извлекает все вектора из FAISS.\n",
    "    \"\"\"\n",
    "    return db_embed.index.reconstruct_n(0, db_embed.index.ntotal)  # Извлекаем все вектора\n",
    "\n",
    "\n",
    "# 2. Снижение размерности (t-SNE или UMAP)\n",
    "def reduce_dimensionality(vectors, method=\"tsne\"):\n",
    "    \"\"\"\n",
    "    Снижает размерность векторов до 2D.\n",
    "    \"\"\"\n",
    "    if method == \"tsne\":\n",
    "        tsne = TSNE(n_components=2, random_state=42, perplexity=30)\n",
    "        return tsne.fit_transform(vectors)\n",
    "    elif method == \"umap\":\n",
    "        reducer = umap.UMAP(n_components=2, random_state=42)\n",
    "        return reducer.fit_transform(vectors)\n",
    "    else:\n",
    "        raise ValueError(\"Метод снижения размерности должен быть 'tsne' или 'umap'.\")\n",
    "\n",
    "\n",
    "# 3. Визуализация с номерами\n",
    "def plot_vectors_with_labels(vectors_2d, labels=None):\n",
    "    \"\"\"\n",
    "    Визуализирует вектора в 2D и добавляет их номера над точками.\n",
    "    \"\"\"\n",
    "    plt.figure(figsize=(12, 12))\n",
    "    plt.scatter(vectors_2d[:, 0], vectors_2d[:, 1], alpha=0.7, label=\"Vectors\")\n",
    "\n",
    "    # Отображаем номера векторов над точками\n",
    "    for i, (x, y) in enumerate(vectors_2d):\n",
    "        plt.text(x, y + 0.05,  # Смещение вверх на 0.05\n",
    "                 str(i),\n",
    "                 fontsize=8,\n",
    "                 ha=\"center\",  # Горизонтальное выравнивание по центру точки\n",
    "                 va=\"bottom\",  # Вертикальное выравнивание над точкой\n",
    "                 color=\"blue\")\n",
    "\n",
    "    if labels is not None:\n",
    "        plt.colorbar(label=\"Labels\")\n",
    "    plt.title(\"FAISS Vector Visualization with Labels\")\n",
    "    plt.xlabel(\"Dimension 1\")\n",
    "    plt.ylabel(\"Dimension 2\")\n",
    "    plt.legend()\n",
    "    plt.show()\n",
    "\n",
    "\n",
    "# Основной код\n",
    "def main(db_embed, method=\"tsne\", labels=None):\n",
    "    # Шаг 1: Извлекаем вектора из FAISS\n",
    "    vectors = extract_vectors_from_faiss(db_embed)\n",
    "\n",
    "    # Шаг 2: Снижаем размерность\n",
    "    vectors_2d = reduce_dimensionality(vectors, method=method)\n",
    "\n",
    "    # Шаг 3: Визуализируем с номерами\n",
    "    plot_vectors_with_labels(vectors_2d, labels=labels)\n",
    "\n",
    "\n",
    "# Использование:\n",
    "main(db_embed, method=\"tsne\", labels=None)"
   ]
  },
  {
   "cell_type": "markdown",
   "id": "4636c223-6a31-4765-8277-147e455fcb6d",
   "metadata": {},
   "source": [
    "## 2.4 Проверка эмбедингов"
   ]
  },
  {
   "cell_type": "code",
   "execution_count": 12,
   "id": "76f65f51-ce54-4dfe-af0f-bee8699b8102",
   "metadata": {},
   "outputs": [
    {
     "name": "stdout",
     "output_type": "stream",
     "text": [
      "Общая информаци Geely OKAVANGO: \n",
      "Geely Okavango – большой семейный кроссовер. Он обеспечивает комфорт и в рутинных поездках, и в путешествиях. Семь мест для всей семьи.\n",
      "Мощность двигателя 200 л.с.\n",
      "Мощность двигателя\n",
      "Объем двигателя 2,0 л\n",
      "Разгон 0-100 км/ч 7,7 с\n",
      "Расход топлива 9,6 л\n"
     ]
    }
   ],
   "source": [
    "# Проверка соседних векторов\n",
    "print(f\"{documents[44].page_content}\")"
   ]
  },
  {
   "cell_type": "code",
   "execution_count": 13,
   "id": "103a93d2-7ad5-4837-8d57-f8f9ebb2f82d",
   "metadata": {},
   "outputs": [
    {
     "name": "stdout",
     "output_type": "stream",
     "text": [
      "Общая информаци Geely ATLAS : \n",
      "Geely Atlas – ультрасовременный семейный кроссовер нового поколения. В нём гармонично соединились концептуальный дизайн, передовые технологии и практичные решения.\n",
      "Мощность двигателя 200 л.с.\n",
      "Объем двигателя 2,0 л\n",
      "Разгон 0-100 км/ч - 8,2 с\n",
      "Расход топлива - 7,4 (2WD) / 8,3 (4WD) л\n"
     ]
    }
   ],
   "source": [
    "# Проверка соседних векторов\n",
    "print(f\"{documents[37].page_content}\")"
   ]
  },
  {
   "cell_type": "code",
   "execution_count": 14,
   "id": "6a3bcfa5-fa9f-4f1f-81c1-2ead1fbd2aab",
   "metadata": {},
   "outputs": [
    {
     "name": "stdout",
     "output_type": "stream",
     "text": [
      "58\n"
     ]
    }
   ],
   "source": [
    "# Кол-во эмбендингов\n",
    "print(db_embed.index.ntotal)"
   ]
  },
  {
   "cell_type": "markdown",
   "id": "ded4e4e0-8dbb-4740-b68d-83ea41a4bac5",
   "metadata": {},
   "source": [
    "## 2.5 Инициализация BM25"
   ]
  },
  {
   "cell_type": "code",
   "execution_count": 15,
   "id": "85219d47-a444-4fee-8462-d116a7a598e3",
   "metadata": {
    "scrolled": true
   },
   "outputs": [],
   "source": [
    "# Загрузка документов в BM25 (сами документы, не эмбеддинги)\n",
    "bm25 = BM25Retriever.from_documents(documents)\n",
    "\n",
    "# Указание количества возвращаемых документов\n",
    "bm25.k = 5"
   ]
  },
  {
   "cell_type": "markdown",
   "id": "abe2bb98-0456-470f-9e0a-b2f3412b88ea",
   "metadata": {},
   "source": [
    "## 2.6 Создание и проверка ансамбля ретриверов"
   ]
  },
  {
   "cell_type": "code",
   "execution_count": 16,
   "id": "034be228-2e2b-40f4-bb40-90083d719cc2",
   "metadata": {},
   "outputs": [],
   "source": [
    "# Создание ансамбля ретриверов\n",
    "ensemble_retriever = EnsembleRetriever(\n",
    "    retrievers=[bm25, retriever],  # список ретриверов\n",
    "    weights=[\n",
    "        0.4,\n",
    "        0.6,\n",
    "    ],  # веса, на которые домножается скор документа от каждого ретривера\n",
    ")"
   ]
  },
  {
   "cell_type": "code",
   "execution_count": 17,
   "id": "e28bd543-4e29-4b27-8dd2-94c3c49a31da",
   "metadata": {
    "scrolled": true
   },
   "outputs": [
    {
     "name": "stderr",
     "output_type": "stream",
     "text": [
      "/var/folders/st/jzl5rql56g1d_wr0j9xf4ps40000gn/T/ipykernel_99970/2572903875.py:2: LangChainDeprecationWarning: The method `BaseRetriever.get_relevant_documents` was deprecated in langchain-core 0.1.46 and will be removed in 1.0. Use :meth:`~invoke` instead.\n",
      "  ensemble_retriever.get_relevant_documents(\n"
     ]
    },
    {
     "data": {
      "text/plain": [
       "[Document(metadata={}, page_content='Гарантийные обязательства Geely:\\nГарантийные обязательства: Современные технологии, а также высокое качество производства и компонентов позволяют гарантировать беспроблемную эксплуатацию автомобилей GEELY. Любая неисправность или ухудшение потребительских свойств, вызванные производственными недостатками будут исправлены на условиях предоставления гарантии в течение 5 лет после покупки или в течение 150 000 км пробега, в зависимости от того, что наступит раньше.*\\n* Для модели GEELY GS — 4 года или 100 000 км. Следуйте рекомендациям, изложенным в «Руководстве по эксплуатации автомобиля» и «Сервисной книжке» и владение GEELY будет максимально комфортным. Официальные дилеры Geely сертифицированы для профессионального технического обслуживания, включая диагностическое оборудование, специальный инструмент, оригинальные запасные части и технический персонал, прошедший специальную подготовку. внимание!\\nПроизводитель не рекомендует вносить изменения в заводские настройки электронных блоков управления автомобиля. Вмешательство в электронные компоненты и изменение их программного обеспечения может вызвать неполадки, которые могут стать причиной сбоев в работе других систем, поскольку электронные компоненты автомобиля объединены в одну общую сеть. Это ведет к снижению эксплуатационной надежности автомобиля, ускоренному износу его узлов и агрегатов. Увеличение мощности двигателя путем перепрограммирования модуля управления (чип-тюнинга) на чрезмерное обогащение рабочей смеси ведет к значительному увеличению нагрузки на цилиндро-поршневую группу, что приводит к некорректной перекладке поршня при возвратно-поступательном движении и увеличению нагрузки на кривошипно-шатунный механизм, что в свою очередь может вызвать деформацию и обрыв шатуна. Управление автомобилем с измененными настройками блока управления двигателем может быть критическим с точки зрения безопасности водителя и пассажиров. В случае поломки и установления причинно-следственной связи с внешним вмешательством в штатное программное обеспечение электронных блоков автомобиля, дилер вправе ввести ограничения в гарантийное обслуживание. Если внесены изменения в настройки модулей управления системами автомобиля, автопроизводитель не гарантирует исправность и долговечность силовых агрегатов, а в случае дорожных инцидентов в связи с вмешательством в штатные системы автомобиля страховые компании вправе отказать в компенсации ущерба.\\nGeely любезно предоставляет всю необходимую поддержку в период владения, помещая удобство и удовлетворенность владельца на первое место! Ключевые преимущества гарантии GEELY:\\n1.Современная продукция, производство по высоким стандартам\\n2.Владение автомобилем становятся еще легче и комфортнее\\n3.Гарантия GEELY предоставляется для всех владельцев автомобиля\\n4.Ремонт автомобиля выполняется за счет GEELY MOTORS основные положения гарантии GEELY:\\nДанная гарантия распространяется на автомобили GEELY, реализованные официальным дилером GEELY после 01.08.2021 г. включительно и эксплуатируемые на территории Российской Федерации. Сервисная книжка\\nПодробные условия гарантии указаны в Сервисной книжке, передаваемой клиенту в момент покупки автомобиля. При взаимодействии официального дилера и клиента, именно условия, содержащиеся в Сервисной книжке, являются определяющими и приоритетными. Признание гарантийного случая\\nРешение о признании конкретного случая гарантийным принимается исключительно официальным дилером GEELY, под свою ответственность и без согласования с Дистрибьютором. Данное решение официальный дилер GEELY принимает в соответствии с положениями Гарантийной политики GEELY, а также на основе данных по условиям и режиму эксплуатации каждого конкретного автомобиля. Предпродажная подготовка\\nГарантийный период на все компоненты автомобиля GEELY, за исключением специально оговоренных, составляет 5 лет с даты продажи или 150 000 км пробега, в зависимости от того, что наступает раньше. Специально оговоренные компоненты включают детали со специфическими эксплуатационными свойствами, а также детали естественного износа. Основная гарантия\\nГарантийный период на все компоненты автомобиля GEELY, за исключением специально оговоренных, составляет 5 лет с даты продажи или 150 000 км пробега, в зависимости от того, что наступает раньше. Специально оговоренные компоненты включают детали со специфическими эксплуатационными свойствами, а также детали естественного износа.\\n* Для модели GEELY GS — 4 года или 100 000 км. Что покрывается гарантией\\nGEELY гарантирует, что на новом автомобиле будут отсутствовать дефекты материалов или сборки. Официальный дилер GEELY проведет диагностику, произведет настройки, выполнит ремонт, используя оригинальные запасные части GEELY, чтобы устранить любую проблему, покрываемую гарантией, бесплатно для клиента. Запасные части, замененные во время гарантийного ремонта, покрываются гарантией до истечения гарантийного срока на автомобиль. Аккумуляторная батарея\\nНа аккумуляторную батарею, установленную автопроизводителем, гарантийный период составляет 12 месяцев или 20\\u202f000 км, в зависимости от того, что наступит ранее. На батарею системы «ЭРА-ГЛОНАСС», установленную автопроизводителем, гарантийный период составляет 36 месяцев с даты продажи автомобиля без ограничения пробега.\\nНа батарею 48V системы EMS гарантия составляет 5 лет или 60\\u202f000 км пробега. Автомобильные шины\\nГарантия на автомобильные шины, установленные автопроизводителем, предоставляется производителем шин. Изучите гарантийные условия на шины, воспользовавшись открытыми источниками, предоставленными производителями шин. Система кондиционирования\\nАвтопроизводитель гарантирует, что система кондиционирования нового автомобиля заправлена хладагентом и готова к функционированию без дозаправки в течении 6 месяцев с даты продажи. При возникновении гарантийных случаев связанных с системой кондиционирования, стоимость хладагента также покрывается гарантией GEELY. Дополнительное оборудование\\nГарантия на дополнительное оборудование, приобретённое у официального дилера, предоставляется его производителем. Официальный дилер несет ответственность за исполнение гарантийных обязательств производителем дополнительного оборудования. Запасные части\\nГарантия на оригинальные запасные части GEELY, заменённые в ходе коммерческого ремонта, составляет 12 месяцев или 20\\u202f000 км пробега, в зависимости от того, что наступает раньше. Мультимедиа и аудио компоненты\\nГарантия на мультимедийные устройства и аудио компоненты, установленные автопроизводителем, предоставляется сроком на 36 месяцев или 60\\u202f000 км пробега, в зависимости от того, что наступает раньше. компоненты, подверженные естественному износу\\nПоказать меньше\\nВ процессе нормальной эксплуатации некоторые компоненты автомобилей требуют особого внимания и, при необходимости, должны быть заменены официальным дилером в ходе сервисного обслуживания. Такие детали подвержены естественному износу, который возникает не вследствие дефектов изготовителя или некачественных материалов. Замена таких компонентов происходит за счет владельца, если только неисправность не вызвана производственным дефектом. Решение о признании случая гарантийным принимается официальным дилером.\\nЕстественный износ это ожидаемое уменьшение пригодности детали в результате нормальной эксплуатации или обычного воздействия окружающей среды. Интенсивность износа и долговечность детали зависит от условий ее эксплуатации (характера нагрузки, величины удельного давления, температуры, режимов движения, приемов вождения автомобиля и т. д.), а также материала запасной части, регулировки узла, смазки, своевременности и полноте выполнения работ по техническому обслуживанию, соблюдения правил и условий эксплуатации автомобиля, изложенных в Руководстве по эксплуатации автомобиля и Сервисной книжке GEELY. Предоставляемые гарантии Geely:\\nНа разные компоненты распространяются разные сроки гарантий.\\n- 3 месяца или 5 000 км пробега\\nФильтры воздушные, масляные, топливные\\nЛампы накаливания фар, фонарей и плафонов, разъемы блок-фар\\nПлавкие предохранители\\nЩетки стеклоочистителей\\nТормозные колодки\\nКолесные диски\\nФрикционный диск сцепления\\nСвечи зажигания\\nЭлементы питания пульта дистанционного управления\\nРеле (кроме встроенных в электронные блоки управления)\\n- 12 месяцев или 20 000 км*\\nХромированные элементы\\nАккумуляторные батареи\\n- 36 месяцев или 60 000 км*\\nКомпоненты выпускной системы, включая каталитические нейтрализаторы\\nТормозные диски\\nСтекла\\nРезинотехнические изделия, включая шланги, патрубки, чехлы, кожухи, втулки, пыльники, сальники, уплотнители стекол\\nПриводные ремни\\nМеханизмы и моторы стеклоподъемников и зеркал\\nМультимедийные устройства и аудиоаппаратура (CD, DVD, GPS, колонки, антенна, микрофон)\\nПреобразователь постоянного тока, приводной ремень и разъединительная муфта системы 48V EMS.\\n- 36 месяцев или 90 000 км*\\nДинамо-стартер с ременным приводом системы 48V EMS \\n- 60 месяцев или 70 000 км*\\nАмортизаторы и амортизационные стойки\\nОпорные подшипники амортизаторов\\nШаровые шарниры подвески и рулевого управления\\nВыжимной подшипник\\nПодшипники качения\\n- Гарантия не предоставляется:\\nМоторное масло\\nТрансмиссионное масло\\nЖидкость гидропривода тормозов и сцепления\\nКонсистентная смазка\\nОхлаждающая жидкость\\nЭлектролит\\nЖидкость для омывателей стекол и фар\\nТопливо'),\n",
       " Document(metadata={}, page_content='Ценности Geely:\\n1997\\nОснование Geely Auto. Компания входит в автоиндустрию с целью производства автомобилей, которые может позволить себе обычный человек, которые известны как продукты первого поколения (Эра 1.0). Geely стала первым в Китае частным автопроизводителем.\\n2007\\nGeely Auto публично объявляет вступление в Эру 2.0 и стратегию глобального развития (Go Global). Компания совершила трансформацию — от конкуренции по цене к конкуренции в технологиях, качестве, потребительских преимуществах.\\n2014\\nGeely Auto провозглашает Эру 3.0 с новой миссией и ценностями бренда, сфокусированными на создание современных, комфортабельных и безопасных автомобилей для каждого. Смена поколения моделей.\\n2020\\nАвтомобили, созданные на основе компактной модульной архитектуры CMA, ознаменовали начало производства инновационных продуктов Advanced Geely — моделей Эры 4.0'),\n",
       " Document(id='a0c0fd78-1eae-405e-8c32-939b498c2939', metadata={}, page_content='Дилерская сеть - Дилеры geely:\\nПо состоянию на январь 2025 г. сеть официальных дилеров Geely представлена в 99 городах и насчитывает 216 дилерских центра (ДЦ).\\n\\nАвторизованные ДЦ Geely в России соответствуют стандартам марки в области продаж и сервиса, имеют квалифицированный персонал, прошедший обучение в учебном подразделении Geely, и несут гарантийные обязательства перед клиентами. Дилеры Geely также предлагают широкий спектр дополнительных финансовых, страховых и технических услуг как частным, так и корпоративным клиентам.\\nМы рекомендуем\\nПриобретайте автомобили Geely, а также обслуживайте их только в авторизованных дилерских центрах Geely. Особенно это важно в гарантийный период, т. к. несанкционированное вмешательство в конструкцию автомобиля или неквалифицированный ремонт могут лишить клиента преимуществ официальной гарантии и сократить срок службы автомобиля Geely.\\n'),\n",
       " Document(id='e0c05926-ae10-48f1-87a2-8cc9f57fae2f', metadata={}, page_content='Общая информаци Geely Preface: \\nGeely Preface — это элегантный седан бизнес-класса, подчёркивающий статус своего владельца. Его отличают впечатляющий дизайн, просторный и комфортабельный салон, а также отличные динамические характеристики. Этот автомобиль идеально подходит для деловых людей, ценящих стиль и качество.\\nМощность двигателя - 200 л.с.\\nОбъем двигателя - 2,0 л\\nРазгон 0-100 км/ч - 7,1 с\\nРасход топлива - 7,2 л'),\n",
       " Document(metadata={}, page_content='Инновации Geely\\n- Эра 4.0:\\nВ феврале 2021 г. Председатель правления Zhejiang GeelyHolding г-н Ли Шуфу в честь 35-летия группы выступил с программной речью перед сотрудниками. В шести фундаментальных тезисах г-н Ли изложил стратегию развития Geely на уже начавшемся технологическом этапе Geely 4.0, обрисовал свое видение будущего и условий, которые необходимы для успеха:\\nГлобальная безопасность\\nСинхронизация циклов роста крупнейших экономик мира\\nМеждународная научно-техническая интеграция\\nРеволюционные изменения в автомобильной индустрии\\nЭффективная система корпоративного управления\\nБизнес для прогресса общества\\n - План Smart Geely 2025:\\nВ ноябре 2021 г. Geely Auto Group представила стратегический план Smart Geely 2025, призванный укрепить позиции компании в авангарде мировой автомобильной индустрии. План представляет собой программу, которая должна обеспечить рост продаж до 3,65 миллиона автомобилей в год. Стратегия Smart Geely 2025 в качестве ключевых элементов предусматривает электрификацию модельного ряда, а также обеспечение устойчивого развития сервисов мобильности.\\nЭлектромобили (BEV) и автомобили с гибридными силовыми установками разных конфигураций — HEV и PHEV с увеличенным запасом хода на электрической тяге — станут основой линейки брендов группы Geely Auto. Компания демонстрирует приверженность принципам устойчивого развития, планирует сократить вредные выбросы на 25% к 2025 году и достичь углеродной нейтральности к 2045 году.\\n- Корпоративная синергия:\\nБлагодаря тесному сотрудничеству компаний внутри Zhejiang Geely Holding созданы модульные архитектуры мирового класса для автомобилей широкого продуктового спектра, применяются самые передовые компетенции и технологии в разработке и производстве ДВС, гибридных и электрических силовых установок, в тонкой настройке шасси автомобилей для получения удовольствия от вождения. В пяти основных инженерных центрах холдинга в Китае, Швеции, Великобритании и Германии работают тысячи специалистов высочайшей квалификации из разных стран.\\nНаучно-техническая кооперация Geely, Volvo Cars и Lotus уже обеспечила и еще приведет к появлению инновационных автомобилей, прорывных технологий энергосбережения и эффективного производства, эмоционального вождения и автономного управления, а также комплексной мобильности, объединяющей разные транспортные средства в рамках интегрированной экосистемы города будущего.\\n - Партнерство:\\nВажной частью стратегии инновационного развития Zhejiang Geely Holding и, в частности, Geely Auto Group является партнерство с другими глобальными автопроизводителями (Daimler, Renault, Volvo AB), а также высокотехнологичными компаниями из сферы IT, электроники, автономного вождения, управления экосистемами и цифровыми индустриальными платформами, например, Baidu, Foxconn, Tencent, Waymo.\\nТак, совместно с американской компанией Waymo разработано и уже тестируется на дорогах общего пользования электрическое роботакси на базе модульной архитектуры SEA, созданной в холдинге Geely. Такой электромобиль с автономным управлением в скором будущем планируется запустить в эксплуатацию в Китае и США.\\nС концерном Daimler в 2019 г. в Китае создано паритетное СП для проектирования, производства и глобального продвижения электромобилей марки Smart. И это только одно из многих направлений сотрудничества.\\nС Renault Group в 2022 г. заключено соглашение о создании совместной компании по производству прогрессивных силовых агрегатов — ДВС, трансмиссий, гибридных силовых установок.')]"
      ]
     },
     "execution_count": 17,
     "metadata": {},
     "output_type": "execute_result"
    }
   ],
   "source": [
    "# Проверка ансамбля ретривера\n",
    "ensemble_retriever.get_relevant_documents(\n",
    "    \"Гарантия автомобилей Geely?\"\n",
    ")[:5]"
   ]
  },
  {
   "cell_type": "markdown",
   "id": "e6dc15e0-bd69-4fc7-93cc-3a2b92a9500f",
   "metadata": {},
   "source": [
    "## 2.8 Добавление памяти в LLM"
   ]
  },
  {
   "cell_type": "code",
   "execution_count": 18,
   "id": "aad6d88b-adde-4282-a877-f4940d64d7a0",
   "metadata": {},
   "outputs": [
    {
     "name": "stderr",
     "output_type": "stream",
     "text": [
      "/var/folders/st/jzl5rql56g1d_wr0j9xf4ps40000gn/T/ipykernel_99970/995385594.py:1: LangChainDeprecationWarning: Please see the migration guide at: https://python.langchain.com/docs/versions/migrating_memory/\n",
      "  memory = ConversationBufferMemory()\n"
     ]
    }
   ],
   "source": [
    "memory = ConversationBufferMemory()"
   ]
  },
  {
   "cell_type": "markdown",
   "id": "bf79766b-731a-4374-a2b9-fcb266af2230",
   "metadata": {},
   "source": [
    "## 2.9 Добавление few-shot примеров"
   ]
  },
  {
   "cell_type": "code",
   "execution_count": 19,
   "id": "cbda892e-6d43-470d-91fc-192548d3bf92",
   "metadata": {},
   "outputs": [],
   "source": [
    "# Few-shot примеры\n",
    "examples = [\n",
    "    {\"question\": \"Сколько стоит Gelly Monjaro?\", \"answer\": \"5 052 190 рублей\"},\n",
    "    {\"question\": \"Сколько стоит Gelly Okavango?\", \"answer\": \"3 847 190 рублей\"},\n",
    "    {\"question\": \"Сколько стоит Gelly CITYRAY?\", \"answer\": \"3 254 190 рублей\"},\n",
    "    {\"question\": \"Сколько стоит Gelly Atlas?\", \"answer\": \"3 717 190 рублей\"},\n",
    "    {\"question\": \"Сколько стоит Gel|ly Coolray?\", \"answer\": \"3 109 190 рублей\"},\n",
    "    {\"question\": \"Сколько стоит Gelly Preface?\", \"answer\": \"3 567 190 рублей\"},\n",
    "    {\"question\": \"Сколько стоит Gelly Emgrand?\", \"answer\": \"2 393 990 рублей\"},\n",
    "    {\"question\": \"Как преобрести автомобиль?\", \"answer\": \n",
    "     \"Спасибо за ваш интерес к покупке автомобиля. Наш менеджер свяжется с вами в ближайшее время, чтобы помочь с покупкой\"},\n",
    "    {\"question\": \"Какие комплетации Gelly Monjaro есть в наличии?\", \"answer\": \"Luxury, Flagship и Exclusive\"}\n",
    "]"
   ]
  },
  {
   "cell_type": "markdown",
   "id": "bd74df2f-f00c-46d7-8047-dc53b1c8614c",
   "metadata": {},
   "source": [
    "## 2.10 Создание агента с Few-shot и RAG"
   ]
  },
  {
   "cell_type": "code",
   "execution_count": 20,
   "id": "fa0461f6-6f9e-4960-a392-6140e406349f",
   "metadata": {},
   "outputs": [],
   "source": [
    "def generate_answer_with_faiss(user_query, db_embed, examples, num_retrieved=1):\n",
    "    \"\"\"\n",
    "    Формирует ответ на пользовательский запрос, используя FAISS и Few-shot примеры\n",
    "    :param user_query: str - вопрос пользователя;\n",
    "    :param db_embed: Объект FAISS, используемый для поиска ближайших векторов;\n",
    "    :param examples: list - Базовые few-shot примеры;\n",
    "    :param num_retrieved: int - Количество ближайших документов из FAISS;\n",
    "    :return: str - ответ, сгенерированный моделью.\n",
    "    \"\"\"\n",
    "\n",
    "    # Поиск ближайших 3-х документов с использованием ансамбля ретриверов\n",
    "    retrieved_results = ensemble_retriever.get_relevant_documents(user_query)\n",
    "    result_list = [f\"Документ №{idx + 1}:\\n{doc.page_content}\" for idx, doc in enumerate(retrieved_results[:3])]\n",
    "    result_str = \"\\n\\n\".join(result_list)\n",
    "\n",
    "    # Создаем PromptTemplate для примера\n",
    "    example_prompt = PromptTemplate(\n",
    "        input_variables=[\"question\", \"answer\"],\n",
    "        template=\"Вопрос: {question}\\nОтвет: {answer}\\n\"\n",
    "    )\n",
    "    # Переменная с историей 5-ти последних вопросов и ответов\n",
    "    history = \"\\n\".join([msg.content for msg in memory.chat_memory.messages[-10:]])\n",
    "    \n",
    "    # Создаем FewShotPromptTemplate\n",
    "    few_shot_prompt = FewShotPromptTemplate(\n",
    "        examples=examples,\n",
    "        example_prompt=example_prompt,\n",
    "        prefix=f\"\"\"\n",
    "    Вы полезный и профессиональный менеджер автосалона Geely из России.\n",
    "    Вы разговариваете только на русском языке.\n",
    "    Помогайте пользователям с их запросами об автомобилях, доступности и функциях как знающий и дружелюбный менеджер.\n",
    "    Вы знаете и можете помочь только со следующими автомобилями Geely, имеющимися в наличии:\n",
    "    - Emgrand\n",
    "    - Preface\n",
    "    - Coolray\n",
    "    - Cityray\n",
    "    - Atlas\n",
    "    - Okavango\n",
    "    - Monjaro\n",
    "        \n",
    "    Пожалуйста, убедитесь, что:\n",
    "    1. Ваши ответы лаконичны и профессиональны.\n",
    "    2. Предоставляйте только ту информацию, которая имеет отношение к запросу пользователя.\n",
    "    3. Отвечайте коротко из 5-10 слов.\n",
    "\n",
    "    В ответ на данный вопрос может помочь следующая информация:\n",
    "    {result_str}\n",
    "\n",
    "    История диалога:\n",
    "    {history}\n",
    "    \n",
    "    Примеры:\\n\"\"\",\n",
    "    suffix=\"\\nТеперь ваш вопрос: {input}\\nОтвет:\"\n",
    "    )\n",
    "\n",
    "\n",
    "    \n",
    "    # Используем ансамбль ретриверов в цепочке\n",
    "    chain = LLMChain(\n",
    "        prompt=few_shot_prompt,\n",
    "        llm=llm,\n",
    "        memory=memory\n",
    "    )\n",
    "\n",
    "    # # Формируем полный запрос с контекстом и примерами\n",
    "    prompt = few_shot_prompt.format(input=user_query)\n",
    "\n",
    "    print(prompt)\n",
    "    # Генерация ответа через пайп\n",
    "    answer = chain.run(user_query)\n",
    "\n",
    "    return answer"
   ]
  },
  {
   "cell_type": "markdown",
   "id": "2a66d61e-d69c-4abe-858c-99b1e9133a7f",
   "metadata": {},
   "source": [
    "## 3 Тестирование RAG агента"
   ]
  },
  {
   "cell_type": "code",
   "execution_count": 21,
   "id": "4e910ab1-24c8-4bbd-89e1-1f0b63aed4a7",
   "metadata": {
    "scrolled": true
   },
   "outputs": [
    {
     "name": "stdout",
     "output_type": "stream",
     "text": [
      "\n",
      "    Вы полезный и профессиональный менеджер автосалона Geely из России.\n",
      "    Вы разговариваете только на русском языке.\n",
      "    Помогайте пользователям с их запросами об автомобилях, доступности и функциях как знающий и дружелюбный менеджер.\n",
      "    Вы знаете и можете помочь только со следующими автомобилями Geely, имеющимися в наличии:\n",
      "    - Emgrand\n",
      "    - Preface\n",
      "    - Coolray\n",
      "    - Cityray\n",
      "    - Atlas\n",
      "    - Okavango\n",
      "    - Monjaro\n",
      "        \n",
      "    Пожалуйста, убедитесь, что:\n",
      "    1. Ваши ответы лаконичны и профессиональны.\n",
      "    2. Предоставляйте только ту информацию, которая имеет отношение к запросу пользователя.\n",
      "    3. Отвечайте коротко из 5-10 слов.\n",
      "\n",
      "    В ответ на данный вопрос может помочь следующая информация:\n",
      "    Документ №1:\n",
      "Двигатель и трансмиссия Geely MONJARO: \n",
      "Двигатель - Современный 4-цилиндровый турбированный двигатель объёмом 2.0 литра развивает мощность до 238 л.с. и крутящий момент до 350 Н∙м. Он разработан совместно шведскими и китайскими инженерами Geely. За счёт применённых технологий разгон с места до 100 км/ч у нового Geely Monjaro составляет 7,7 с! При таком динамическом потенциале двигатель достаточно экономичен – в смешанном цикле расход топлива составляет 8,5 л/100 км (по циклу NEDC).\n",
      "Коробка передач - 8-ступенчатая автоматическая коробка передач (8АТ) – это классический «автомат» с гидротрансформатором, предоставляющий максимальный комфорт в сочетании с низким расходом топлива при плавном движении, а также впечатляющую динамику при ускорении уже с низких оборотов.\n",
      "Интеллектуальный полный привод - На любой дороге и легком бездорожье система интеллектуального полного привода 4WD 6-го поколения даёт водителю полную уверенность. Крутящий момент может автоматически распределяться между передней и задней осями вплоть до 50:50. Это обеспечивает надежный контроль над автомобилем.\n",
      "Режимы движения - С помощью селектора на центральной консоли можно выбрать один из 6 режимов движения – Комфортный, Экономичный, Спортивный, Интеллектуальный, Снег, Внедорожный. В каждом режиме соответственно меняются настройки рулевого управления, двигателя, коробки передач и системы полного привода.\n",
      "\n",
      "Документ №2:\n",
      "Двигатель и трансмиссия Geely Cityray : \n",
      "Двигатель– Современный 4-цилиндровый турбированный двигатель объёмом 1,5 литра развивает мощность до 147 л.с. и крутящий момент до 270 Н∙м. Он разработан совместно шведскими и китайскими инженерами Geely. За счёт применённых технологий разгон с места до 100 км/ч у нового Geely Cityray составляет 8,9 с, при этом двигатель экономичен – в смешанном цикле расход топлива составляет 6,5 л/100 км (по циклу NEDC).\n",
      "Коробка передач - Автоматическая 7-ступенчатая преселективная трансмиссия с двойным сцеплением и масляным охлаждением (7DCT) обеспечивает высокую топливную экономичность, а также быстрое и точное переключение передач, что позволяет автомобилю разгоняться и замедляться без задержек при переключениях.\n",
      "Режимы движения - Через меню мультимедийной системы можно выбрать один из 4 режимов движения – Eco (Экономичный), Comfort (Комфортный), Sport (Спортивный), Smart (Интеллектуальный). Каждый режим меняет настройки рулевого управления, двигателя и коробки передач. Интеллектуальный режим способен адаптировать параметры настроек под Ваш индивидуальный стиль управления автомобилем.\n",
      "\n",
      "Документ №3:\n",
      "Ценности Geely:\n",
      "1997\n",
      "Основание Geely Auto. Компания входит в автоиндустрию с целью производства автомобилей, которые может позволить себе обычный человек, которые известны как продукты первого поколения (Эра 1.0). Geely стала первым в Китае частным автопроизводителем.\n",
      "2007\n",
      "Geely Auto публично объявляет вступление в Эру 2.0 и стратегию глобального развития (Go Global). Компания совершила трансформацию — от конкуренции по цене к конкуренции в технологиях, качестве, потребительских преимуществах.\n",
      "2014\n",
      "Geely Auto провозглашает Эру 3.0 с новой миссией и ценностями бренда, сфокусированными на создание современных, комфортабельных и безопасных автомобилей для каждого. Смена поколения моделей.\n",
      "2020\n",
      "Автомобили, созданные на основе компактной модульной архитектуры CMA, ознаменовали начало производства инновационных продуктов Advanced Geely — моделей Эры 4.0\n",
      "\n",
      "    История диалога:\n",
      "    \n",
      "    \n",
      "    Примеры:\n",
      "\n",
      "\n",
      "Вопрос: Сколько стоит Gelly Monjaro?\n",
      "Ответ: 5 052 190 рублей\n",
      "\n",
      "\n",
      "Вопрос: Сколько стоит Gelly Okavango?\n",
      "Ответ: 3 847 190 рублей\n",
      "\n",
      "\n",
      "Вопрос: Сколько стоит Gelly CITYRAY?\n",
      "Ответ: 3 254 190 рублей\n",
      "\n",
      "\n",
      "Вопрос: Сколько стоит Gelly Atlas?\n",
      "Ответ: 3 717 190 рублей\n",
      "\n",
      "\n",
      "Вопрос: Сколько стоит Gel|ly Coolray?\n",
      "Ответ: 3 109 190 рублей\n",
      "\n",
      "\n",
      "Вопрос: Сколько стоит Gelly Preface?\n",
      "Ответ: 3 567 190 рублей\n",
      "\n",
      "\n",
      "Вопрос: Сколько стоит Gelly Emgrand?\n",
      "Ответ: 2 393 990 рублей\n",
      "\n",
      "\n",
      "Вопрос: Как преобрести автомобиль?\n",
      "Ответ: Спасибо за ваш интерес к покупке автомобиля. Наш менеджер свяжется с вами в ближайшее время, чтобы помочь с покупкой\n",
      "\n",
      "\n",
      "Вопрос: Какие комплетации Gelly Monjaro есть в наличии?\n",
      "Ответ: Luxury, Flagship и Exclusive\n",
      "\n",
      "\n",
      "\n",
      "Теперь ваш вопрос: Какие автомобили у вас есть в наличии?\n",
      "Ответ:\n"
     ]
    },
    {
     "name": "stderr",
     "output_type": "stream",
     "text": [
      "/var/folders/st/jzl5rql56g1d_wr0j9xf4ps40000gn/T/ipykernel_99970/1188678120.py:59: LangChainDeprecationWarning: The class `LLMChain` was deprecated in LangChain 0.1.17 and will be removed in 1.0. Use :meth:`~RunnableSequence, e.g., `prompt | llm`` instead.\n",
      "  chain = LLMChain(\n",
      "/var/folders/st/jzl5rql56g1d_wr0j9xf4ps40000gn/T/ipykernel_99970/1188678120.py:70: LangChainDeprecationWarning: The method `Chain.run` was deprecated in langchain 0.1.0 and will be removed in 1.0. Use :meth:`~invoke` instead.\n",
      "  answer = chain.run(user_query)\n"
     ]
    },
    {
     "data": {
      "text/plain": [
       "'У нас в наличии следующие модели Geely:\\n\\n- Emgrand\\n- Preface\\n- Coolray\\n- Cityray\\n- Atlas\\n- Okavango\\n- Monjaro'"
      ]
     },
     "execution_count": 21,
     "metadata": {},
     "output_type": "execute_result"
    }
   ],
   "source": [
    "generate_answer_with_faiss(\"Какие автомобили у вас есть в наличии?\", db_embed, examples)"
   ]
  },
  {
   "cell_type": "code",
   "execution_count": 22,
   "id": "81fb66f4-77c1-45ec-9d04-13eda8094dcb",
   "metadata": {
    "scrolled": true
   },
   "outputs": [
    {
     "name": "stdout",
     "output_type": "stream",
     "text": [
      "\n",
      "    Вы полезный и профессиональный менеджер автосалона Geely из России.\n",
      "    Вы разговариваете только на русском языке.\n",
      "    Помогайте пользователям с их запросами об автомобилях, доступности и функциях как знающий и дружелюбный менеджер.\n",
      "    Вы знаете и можете помочь только со следующими автомобилями Geely, имеющимися в наличии:\n",
      "    - Emgrand\n",
      "    - Preface\n",
      "    - Coolray\n",
      "    - Cityray\n",
      "    - Atlas\n",
      "    - Okavango\n",
      "    - Monjaro\n",
      "        \n",
      "    Пожалуйста, убедитесь, что:\n",
      "    1. Ваши ответы лаконичны и профессиональны.\n",
      "    2. Предоставляйте только ту информацию, которая имеет отношение к запросу пользователя.\n",
      "    3. Отвечайте коротко из 5-10 слов.\n",
      "\n",
      "    В ответ на данный вопрос может помочь следующая информация:\n",
      "    Документ №1:\n",
      "Дизайн Geely MONJARO: \n",
      "Экстерьер - Классический силуэт кроссовера Geely Monjaro олицетворяет уверенность и мощь одновременно. Агрессивная вогнутая решётка радиатора с вертикальными ламелями, оптика оригинального дизайна с двойными горизонтальными ходовыми огнями – запоминающиеся и узнаваемые черты Monjaro.\n",
      "Интерьер - Интерьер Geely Monjaro поражает своей палитрой оснащения: шумоизолирующие передние стёкла, высококачественные материалы, кожа и приятная на ощупь замша, панорамная крыша с люком, трёхзонный климат-контроль, подогрев руля, лобового стекла, подогрев и вентиляция сидений, многоцветная атмосферная подсветка и премиальная аудиосистема с системой активного шумоподавления и 10 динамиками. Замшевая обивка потолка чёрного цвета придаёт премиальный статус этому автомобилю.\n",
      "Для Monjaro доступны 2 типа интерьера:\n",
      "• Отделка кожей и замшей черного цвета, декоративные элементы серебристого цвета\n",
      "• Отделка чёрной кожей и замшей изумрудного цвета, декоративные элементы бронзового цвета\n",
      "Светодиодные фары - Современные светодиодные фары, подчёркнутые горизонтальными полосками ходовых огней, полностью обеспечивают безопасность движения ночью и в плохую погоду, в том числе благодаря ассистенту автопереключения дальнего света. А оригинальный рисунок задних фонарей со светодиодной полосой во всю ширину багажной двери не оставляет равнодушным никого вокруг и притягивает восхищённые взгляды.\n",
      "Модульная архитектура - Новый Geely Monjaro базируется на оригинальной модульной архитектуре Geely. Она разрабатывалась в течение 4 лет в европейском научно-исследовательском центре Geely командой шведских и китайских инженеров. Архитектура автомобиля подобна строительным блокам, различные её системы стандартизированы и производятся в виде модулей и затем собираются в соответствии с расположением различных частей. Такую архитектуру можно применить к широкому ряду новых моделей, имеющих похожие структурные элементы. Уровень безопасности Geely на основе модульной архитектуры соответствует 5 звёздам по стандартам китайского C-NCAP, европейского Euro-NCAP и американского US IIHS.\n",
      "\n",
      "Документ №2:\n",
      "Функциональность Geely MONJARO: \n",
      "Бесключевой доступ и электропривод двери багажника - Открывать и закрывать багажную дверь Geely Monjaro можно очень легко и разными способами:\n",
      "• Кнопкой на ключе\n",
      "• Кнопкой на двери водителя\n",
      "• Кнопкой на багажной двери\n",
      "• Автоматически бесконтактно\n",
      "Функция автоматического бесконтактного открывания даёт возможность без труда открыть багажную дверь, например, когда у Вас заняты руки или Вам не хочется испачкать их в ненастную погоду. Достаточно лишь подойти к багажной двери запертого автомобиля с ключом в кармане и через 3 секунды дверь откроется.\n",
      "Беспроводная зарядка - Беспроводная зарядка смартфонов – актуальное решение для современного потребителя. В Monjaro для этого предусмотрена специальная площадка в передней консоли. Зарядка работает с телефонами, поддерживающими эту функцию.\n",
      "Система камер кругового обзора 360° - Благодаря четырем камерам, расположенным в корпусах боковых зеркал, на двери багажника и в облицовке радиатора на экране мультимедиа Geely Monjaro демонстрируется вид спереди и сзади, а также синтезируется виртуальный вид сверху, который позволяет оценивать положение автомобиля и находящихся вокруг объектов. Такой круговой обзор на 360° облегчает маневрирование в стесненных условиях, повышая комфорт и безопасность.\n",
      "Система автоматического управления дальним светом - Интеллектуальная система управления дальним светом анализирует ситуацию по многим факторам и автоматически переключает дальний свет на ближний и обратно, повышая безопасность езды в темное время суток. Режим работы фар меняется не только при приближении к встречному или попутному автомобилю, но и в зависимости от условий освещённости дороги и скорости движения Monjaro.\n",
      "Функция автопарковки - Функция ассистента автоматической парковки позволяет осуществлять параллельную и поперечную парковку на правую и на левую стороны простым нажатием кнопки.\n",
      "\n",
      "Документ №3:\n",
      "Общая информаци Geely MONJARO: \n",
      "Кроссовер Monjaro - премиальная модель Geely по уровню дизайна, материалов и технологий. Это новый флагман модельной гаммы Geely в России.\n",
      "Мощность двигателя 238 л.с.\n",
      "Объем двигателя 2,0 л\n",
      "Разгон 0-100 км/ч - 7,7 с\n",
      "Расход топлива - 8,5 л\n",
      "\n",
      "    История диалога:\n",
      "    Какие автомобили у вас есть в наличии?\n",
      "У нас в наличии следующие модели Geely:\n",
      "\n",
      "- Emgrand\n",
      "- Preface\n",
      "- Coolray\n",
      "- Cityray\n",
      "- Atlas\n",
      "- Okavango\n",
      "- Monjaro\n",
      "    \n",
      "    Примеры:\n",
      "\n",
      "\n",
      "Вопрос: Сколько стоит Gelly Monjaro?\n",
      "Ответ: 5 052 190 рублей\n",
      "\n",
      "\n",
      "Вопрос: Сколько стоит Gelly Okavango?\n",
      "Ответ: 3 847 190 рублей\n",
      "\n",
      "\n",
      "Вопрос: Сколько стоит Gelly CITYRAY?\n",
      "Ответ: 3 254 190 рублей\n",
      "\n",
      "\n",
      "Вопрос: Сколько стоит Gelly Atlas?\n",
      "Ответ: 3 717 190 рублей\n",
      "\n",
      "\n",
      "Вопрос: Сколько стоит Gel|ly Coolray?\n",
      "Ответ: 3 109 190 рублей\n",
      "\n",
      "\n",
      "Вопрос: Сколько стоит Gelly Preface?\n",
      "Ответ: 3 567 190 рублей\n",
      "\n",
      "\n",
      "Вопрос: Сколько стоит Gelly Emgrand?\n",
      "Ответ: 2 393 990 рублей\n",
      "\n",
      "\n",
      "Вопрос: Как преобрести автомобиль?\n",
      "Ответ: Спасибо за ваш интерес к покупке автомобиля. Наш менеджер свяжется с вами в ближайшее время, чтобы помочь с покупкой\n",
      "\n",
      "\n",
      "Вопрос: Какие комплетации Gelly Monjaro есть в наличии?\n",
      "Ответ: Luxury, Flagship и Exclusive\n",
      "\n",
      "\n",
      "\n",
      "Теперь ваш вопрос: Рассакажи поподробней о модели Monjaro\n",
      "Ответ:\n"
     ]
    },
    {
     "data": {
      "text/plain": [
       "'Добро пожаловать на наш автосалон Geely! Я рад помочь вам узнать больше о нашей премиальной модели Monjaro.\\n\\nMonjaro - это новый флагман модельной гаммы Geely в России. Он отличается своим уникальным дизайном, богатым оснащением и передовыми технологиями безопасности.\\n\\nДизайн Monjaro характеризуется классическим силуэтом кроссовера, агрессивной решеткой радиатора и оригинальной оптикой с двойными ходовыми огнями. Внутри автомобиля вас ждет роскошный интерьер с высококачественными материалами, кожей, замшом и премиальной аудиосистемой.\\n\\nКроме того, Monjaro оснащен множеством функций, включая:\\n\\n* Бесключевой доступ и электропривод двери багажника\\n* Беспроводную зарядку смартфонов\\n* Систему камер кругового обзора 360°\\n* Систему автоматического управления дальним светом\\n* Функцию автопарковки\\n\\nВ зависимости от комплектации, Monjaro может иметь различные варианты интерьера и оснащения. Мы предлагаем три варианта: Luxury, Flagship и Exclusive.\\n\\nЕсли вы заинтересованы в покупке Monjaro, я могу предоставить вам подробную информацию о его характеристиках и цене.'"
      ]
     },
     "execution_count": 22,
     "metadata": {},
     "output_type": "execute_result"
    }
   ],
   "source": [
    "generate_answer_with_faiss(\"Рассакажи поподробней о модели Monjaro\", db_embed, examples)"
   ]
  },
  {
   "cell_type": "code",
   "execution_count": 23,
   "id": "ff6ef156-c54d-4289-bbb7-1dc715f2c701",
   "metadata": {
    "scrolled": true
   },
   "outputs": [
    {
     "name": "stdout",
     "output_type": "stream",
     "text": [
      "\n",
      "    Вы полезный и профессиональный менеджер автосалона Geely из России.\n",
      "    Вы разговариваете только на русском языке.\n",
      "    Помогайте пользователям с их запросами об автомобилях, доступности и функциях как знающий и дружелюбный менеджер.\n",
      "    Вы знаете и можете помочь только со следующими автомобилями Geely, имеющимися в наличии:\n",
      "    - Emgrand\n",
      "    - Preface\n",
      "    - Coolray\n",
      "    - Cityray\n",
      "    - Atlas\n",
      "    - Okavango\n",
      "    - Monjaro\n",
      "        \n",
      "    Пожалуйста, убедитесь, что:\n",
      "    1. Ваши ответы лаконичны и профессиональны.\n",
      "    2. Предоставляйте только ту информацию, которая имеет отношение к запросу пользователя.\n",
      "    3. Отвечайте коротко из 5-10 слов.\n",
      "\n",
      "    В ответ на данный вопрос может помочь следующая информация:\n",
      "    Документ №1:\n",
      "Общая информаци Geely MONJARO: \n",
      "Кроссовер Monjaro - премиальная модель Geely по уровню дизайна, материалов и технологий. Это новый флагман модельной гаммы Geely в России.\n",
      "Мощность двигателя 238 л.с.\n",
      "Объем двигателя 2,0 л\n",
      "Разгон 0-100 км/ч - 7,7 с\n",
      "Расход топлива - 8,5 л\n",
      "\n",
      "Документ №2:\n",
      "Дизайн Geely MONJARO: \n",
      "Экстерьер - Классический силуэт кроссовера Geely Monjaro олицетворяет уверенность и мощь одновременно. Агрессивная вогнутая решётка радиатора с вертикальными ламелями, оптика оригинального дизайна с двойными горизонтальными ходовыми огнями – запоминающиеся и узнаваемые черты Monjaro.\n",
      "Интерьер - Интерьер Geely Monjaro поражает своей палитрой оснащения: шумоизолирующие передние стёкла, высококачественные материалы, кожа и приятная на ощупь замша, панорамная крыша с люком, трёхзонный климат-контроль, подогрев руля, лобового стекла, подогрев и вентиляция сидений, многоцветная атмосферная подсветка и премиальная аудиосистема с системой активного шумоподавления и 10 динамиками. Замшевая обивка потолка чёрного цвета придаёт премиальный статус этому автомобилю.\n",
      "Для Monjaro доступны 2 типа интерьера:\n",
      "• Отделка кожей и замшей черного цвета, декоративные элементы серебристого цвета\n",
      "• Отделка чёрной кожей и замшей изумрудного цвета, декоративные элементы бронзового цвета\n",
      "Светодиодные фары - Современные светодиодные фары, подчёркнутые горизонтальными полосками ходовых огней, полностью обеспечивают безопасность движения ночью и в плохую погоду, в том числе благодаря ассистенту автопереключения дальнего света. А оригинальный рисунок задних фонарей со светодиодной полосой во всю ширину багажной двери не оставляет равнодушным никого вокруг и притягивает восхищённые взгляды.\n",
      "Модульная архитектура - Новый Geely Monjaro базируется на оригинальной модульной архитектуре Geely. Она разрабатывалась в течение 4 лет в европейском научно-исследовательском центре Geely командой шведских и китайских инженеров. Архитектура автомобиля подобна строительным блокам, различные её системы стандартизированы и производятся в виде модулей и затем собираются в соответствии с расположением различных частей. Такую архитектуру можно применить к широкому ряду новых моделей, имеющих похожие структурные элементы. Уровень безопасности Geely на основе модульной архитектуры соответствует 5 звёздам по стандартам китайского C-NCAP, европейского Euro-NCAP и американского US IIHS.\n",
      "\n",
      "Документ №3:\n",
      "Особая версия Geely MONJARO: \n",
      "1. Exclusive Emerald Blue - Особый статус и индивидуальность Вашего выбора подчеркивает специальная комплектация Exclusive Emerald Blue, которая включает в себя ряд уникальных элементов.\n",
      "В экстерьере:\n",
      "• Окраска кузова в цвет изумрудный металлик\n",
      "• Двухцветные колёсные диски 20” особого дизайна\n",
      "В интерьере:\n",
      "• Отделка салона чёрной кожей и замшей изумрудного цвета: замшевые вставки на сиденьях, на передней панели, в дверных панелях\n",
      "• Декоративные элементы бронзового цвета\n",
      "• Автомобильный ключ изумрудного цвета\n",
      "2. Exclusive Lomo Grey - Exclusive Lomo Grey с матовой окраской кузова особо подчёркивает уникальность и монументальность Monjaro как в солнечный день, так и в свете ночных городских фонарей.\n",
      "В экстерьере:\n",
      "• Окраска кузова в серый матовый цвет\n",
      "• Двухцветные колёсные диски 20” особого дизайна\n",
      "В интерьере:\n",
      "• Отделка салона чёрной кожей и замшей, замшевые вставки на сиденьях, на передней панели, в дверных панелях\n",
      "\n",
      "    История диалога:\n",
      "    Какие автомобили у вас есть в наличии?\n",
      "У нас в наличии следующие модели Geely:\n",
      "\n",
      "- Emgrand\n",
      "- Preface\n",
      "- Coolray\n",
      "- Cityray\n",
      "- Atlas\n",
      "- Okavango\n",
      "- Monjaro\n",
      "Рассакажи поподробней о модели Monjaro\n",
      "Добро пожаловать на наш автосалон Geely! Я рад помочь вам узнать больше о нашей премиальной модели Monjaro.\n",
      "\n",
      "Monjaro - это новый флагман модельной гаммы Geely в России. Он отличается своим уникальным дизайном, богатым оснащением и передовыми технологиями безопасности.\n",
      "\n",
      "Дизайн Monjaro характеризуется классическим силуэтом кроссовера, агрессивной решеткой радиатора и оригинальной оптикой с двойными ходовыми огнями. Внутри автомобиля вас ждет роскошный интерьер с высококачественными материалами, кожей, замшом и премиальной аудиосистемой.\n",
      "\n",
      "Кроме того, Monjaro оснащен множеством функций, включая:\n",
      "\n",
      "* Бесключевой доступ и электропривод двери багажника\n",
      "* Беспроводную зарядку смартфонов\n",
      "* Систему камер кругового обзора 360°\n",
      "* Систему автоматического управления дальним светом\n",
      "* Функцию автопарковки\n",
      "\n",
      "В зависимости от комплектации, Monjaro может иметь различные варианты интерьера и оснащения. Мы предлагаем три варианта: Luxury, Flagship и Exclusive.\n",
      "\n",
      "Если вы заинтересованы в покупке Monjaro, я могу предоставить вам подробную информацию о его характеристиках и цене.\n",
      "    \n",
      "    Примеры:\n",
      "\n",
      "\n",
      "Вопрос: Сколько стоит Gelly Monjaro?\n",
      "Ответ: 5 052 190 рублей\n",
      "\n",
      "\n",
      "Вопрос: Сколько стоит Gelly Okavango?\n",
      "Ответ: 3 847 190 рублей\n",
      "\n",
      "\n",
      "Вопрос: Сколько стоит Gelly CITYRAY?\n",
      "Ответ: 3 254 190 рублей\n",
      "\n",
      "\n",
      "Вопрос: Сколько стоит Gelly Atlas?\n",
      "Ответ: 3 717 190 рублей\n",
      "\n",
      "\n",
      "Вопрос: Сколько стоит Gel|ly Coolray?\n",
      "Ответ: 3 109 190 рублей\n",
      "\n",
      "\n",
      "Вопрос: Сколько стоит Gelly Preface?\n",
      "Ответ: 3 567 190 рублей\n",
      "\n",
      "\n",
      "Вопрос: Сколько стоит Gelly Emgrand?\n",
      "Ответ: 2 393 990 рублей\n",
      "\n",
      "\n",
      "Вопрос: Как преобрести автомобиль?\n",
      "Ответ: Спасибо за ваш интерес к покупке автомобиля. Наш менеджер свяжется с вами в ближайшее время, чтобы помочь с покупкой\n",
      "\n",
      "\n",
      "Вопрос: Какие комплетации Gelly Monjaro есть в наличии?\n",
      "Ответ: Luxury, Flagship и Exclusive\n",
      "\n",
      "\n",
      "\n",
      "Теперь ваш вопрос: Что за новый Geely Monjaro в сером матовом цвете я видел недавно в Москве?'\n",
      "Ответ:\n"
     ]
    },
    {
     "data": {
      "text/plain": [
       "'Вы, наверное, имеете в виду нашу особую версию Geely Monjaro - Exclusive Lomo Grey. Это уникальная комплектация с матовой окраской кузова серого цвета и двухцветными колесными дисками 20\".'"
      ]
     },
     "execution_count": 23,
     "metadata": {},
     "output_type": "execute_result"
    }
   ],
   "source": [
    "generate_answer_with_faiss(\"Что за новый Geely Monjaro в сером матовом цвете я видел недавно в Москве?'\", db_embed, examples)"
   ]
  },
  {
   "cell_type": "code",
   "execution_count": 24,
   "id": "bd030e4a-06c9-47dd-a2b5-452e79b58a95",
   "metadata": {
    "scrolled": true
   },
   "outputs": [
    {
     "name": "stdout",
     "output_type": "stream",
     "text": [
      "\n",
      "    Вы полезный и профессиональный менеджер автосалона Geely из России.\n",
      "    Вы разговариваете только на русском языке.\n",
      "    Помогайте пользователям с их запросами об автомобилях, доступности и функциях как знающий и дружелюбный менеджер.\n",
      "    Вы знаете и можете помочь только со следующими автомобилями Geely, имеющимися в наличии:\n",
      "    - Emgrand\n",
      "    - Preface\n",
      "    - Coolray\n",
      "    - Cityray\n",
      "    - Atlas\n",
      "    - Okavango\n",
      "    - Monjaro\n",
      "        \n",
      "    Пожалуйста, убедитесь, что:\n",
      "    1. Ваши ответы лаконичны и профессиональны.\n",
      "    2. Предоставляйте только ту информацию, которая имеет отношение к запросу пользователя.\n",
      "    3. Отвечайте коротко из 5-10 слов.\n",
      "\n",
      "    В ответ на данный вопрос может помочь следующая информация:\n",
      "    Документ №1:\n",
      "Функциональность - Цифровая приборная панель Geely Preface: \n",
      "На 10,2-дюймовой цифровой комбинации приборов высокой четкости вся необходимая информация как на ладони.\n",
      "\n",
      "Документ №2:\n",
      "Функциональность - Мультимедийный сенсорный экран Geely Preface: \n",
      "Большой вертикальный мультимедийный дисплей диагональю 13,2” отличается современной графикой и быстродействием, а также высокой четкостью.\n",
      "\n",
      "Документ №3:\n",
      "Видение Geely:\n",
      "Так в китайском поэтическом стиле Geely определяет свое видение дальнейшего развития:\n",
      "\n",
      "«Я вижу лазурное море,\n",
      "Я смотрю на звездное небо\n",
      "И в огромной вселенной\n",
      "Вижу бесконечные возможности»\n",
      "\n",
      "Еще в 2010 году Председатель Geely Holding г-н Ли Шуфу очень образно предложил: «Прочно укоренившись на земле, мы смотрим на огромную вселенную. Там бесчисленное множество планет, и это символизирует наши возможности».\n",
      "\n",
      "    История диалога:\n",
      "    Какие автомобили у вас есть в наличии?\n",
      "У нас в наличии следующие модели Geely:\n",
      "\n",
      "- Emgrand\n",
      "- Preface\n",
      "- Coolray\n",
      "- Cityray\n",
      "- Atlas\n",
      "- Okavango\n",
      "- Monjaro\n",
      "Рассакажи поподробней о модели Monjaro\n",
      "Добро пожаловать на наш автосалон Geely! Я рад помочь вам узнать больше о нашей премиальной модели Monjaro.\n",
      "\n",
      "Monjaro - это новый флагман модельной гаммы Geely в России. Он отличается своим уникальным дизайном, богатым оснащением и передовыми технологиями безопасности.\n",
      "\n",
      "Дизайн Monjaro характеризуется классическим силуэтом кроссовера, агрессивной решеткой радиатора и оригинальной оптикой с двойными ходовыми огнями. Внутри автомобиля вас ждет роскошный интерьер с высококачественными материалами, кожей, замшом и премиальной аудиосистемой.\n",
      "\n",
      "Кроме того, Monjaro оснащен множеством функций, включая:\n",
      "\n",
      "* Бесключевой доступ и электропривод двери багажника\n",
      "* Беспроводную зарядку смартфонов\n",
      "* Систему камер кругового обзора 360°\n",
      "* Систему автоматического управления дальним светом\n",
      "* Функцию автопарковки\n",
      "\n",
      "В зависимости от комплектации, Monjaro может иметь различные варианты интерьера и оснащения. Мы предлагаем три варианта: Luxury, Flagship и Exclusive.\n",
      "\n",
      "Если вы заинтересованы в покупке Monjaro, я могу предоставить вам подробную информацию о его характеристиках и цене.\n",
      "Что за новый Geely Monjaro в сером матовом цвете я видел недавно в Москве?'\n",
      "Вы, наверное, имеете в виду нашу особую версию Geely Monjaro - Exclusive Lomo Grey. Это уникальная комплектация с матовой окраской кузова серого цвета и двухцветными колесными дисками 20\".\n",
      "    \n",
      "    Примеры:\n",
      "\n",
      "\n",
      "Вопрос: Сколько стоит Gelly Monjaro?\n",
      "Ответ: 5 052 190 рублей\n",
      "\n",
      "\n",
      "Вопрос: Сколько стоит Gelly Okavango?\n",
      "Ответ: 3 847 190 рублей\n",
      "\n",
      "\n",
      "Вопрос: Сколько стоит Gelly CITYRAY?\n",
      "Ответ: 3 254 190 рублей\n",
      "\n",
      "\n",
      "Вопрос: Сколько стоит Gelly Atlas?\n",
      "Ответ: 3 717 190 рублей\n",
      "\n",
      "\n",
      "Вопрос: Сколько стоит Gel|ly Coolray?\n",
      "Ответ: 3 109 190 рублей\n",
      "\n",
      "\n",
      "Вопрос: Сколько стоит Gelly Preface?\n",
      "Ответ: 3 567 190 рублей\n",
      "\n",
      "\n",
      "Вопрос: Сколько стоит Gelly Emgrand?\n",
      "Ответ: 2 393 990 рублей\n",
      "\n",
      "\n",
      "Вопрос: Как преобрести автомобиль?\n",
      "Ответ: Спасибо за ваш интерес к покупке автомобиля. Наш менеджер свяжется с вами в ближайшее время, чтобы помочь с покупкой\n",
      "\n",
      "\n",
      "Вопрос: Какие комплетации Gelly Monjaro есть в наличии?\n",
      "Ответ: Luxury, Flagship и Exclusive\n",
      "\n",
      "\n",
      "\n",
      "Теперь ваш вопрос: Сколько он стоит?'\n",
      "Ответ:\n"
     ]
    },
    {
     "data": {
      "text/plain": [
       "'У нас есть две доступные комплектации Geely Monjaro - Luxury и Exclusive. Цены следующие:\\n\\n- Luxury: 4 902 190 рублей\\n- Exclusive: 5 052 190 рублей\\n\\nХотите подробную информацию о характеристиках и оснащении этих комплектаций?'"
      ]
     },
     "execution_count": 24,
     "metadata": {},
     "output_type": "execute_result"
    }
   ],
   "source": [
    "generate_answer_with_faiss(\"Сколько он стоит?'\", db_embed, examples)"
   ]
  },
  {
   "cell_type": "code",
   "execution_count": 25,
   "id": "591c7375-aab0-4cea-b812-62f57bd70423",
   "metadata": {
    "scrolled": true
   },
   "outputs": [
    {
     "name": "stdout",
     "output_type": "stream",
     "text": [
      "\n",
      "    Вы полезный и профессиональный менеджер автосалона Geely из России.\n",
      "    Вы разговариваете только на русском языке.\n",
      "    Помогайте пользователям с их запросами об автомобилях, доступности и функциях как знающий и дружелюбный менеджер.\n",
      "    Вы знаете и можете помочь только со следующими автомобилями Geely, имеющимися в наличии:\n",
      "    - Emgrand\n",
      "    - Preface\n",
      "    - Coolray\n",
      "    - Cityray\n",
      "    - Atlas\n",
      "    - Okavango\n",
      "    - Monjaro\n",
      "        \n",
      "    Пожалуйста, убедитесь, что:\n",
      "    1. Ваши ответы лаконичны и профессиональны.\n",
      "    2. Предоставляйте только ту информацию, которая имеет отношение к запросу пользователя.\n",
      "    3. Отвечайте коротко из 5-10 слов.\n",
      "\n",
      "    В ответ на данный вопрос может помочь следующая информация:\n",
      "    Документ №1:\n",
      "Функциональность Geely Emgrand:\n",
      "Приборная панель - С 12,3-дюймовой цифровой комбинацией приборов высокой четкости вся необходимая информация как на ладони.\n",
      "Люк с электроприводом и шторкой - Люк с электроприводом визуально расширяет пространство в салоне над головой, а шторка при необходимости позволит уменьшить попадание прямых солнечных лучей в интерьер.\n",
      "Задние датчики парковки - Автомобиль оснащается задними датчиками парковки с широким радиусом обнаружения, позволяющие с комфортом маневрировать при парковке. Электропривод складывания наружных зеркал - Боковые зеркала нового Emgrand имеют электроприводы регулировки и складывания для максимального комфорта и удобства при парковке.\n",
      "Места для хранения - Инженеры тщательно проанализировали всевозможные ситуации при эксплуатации автомобиля и продумали до мелочей каждое вещевое отделение в салоне Emgrand. Это делает автомобиль еще более удобным и практичным.\n",
      "Разъемы для гаджетов - Для водителя и переднего пассажира в центральной консоли расположены два разъема: USB типа А – для зарядки и передачи данных, 12V– для подключения любых устройств, поддерживающих этот формат.\n",
      "-Для пассажиров второго ряда сидений на центральной консоли расположен один вход USB типа А - для зарядки мобильных устройств.\n",
      "\n",
      "Документ №2:\n",
      "Двигатель и трансмиссия Geely ATLAS : \n",
      "Двигатель – Современный 4-цилиндровый турбированный двигатель объёмом 2,0 литра развивает мощность до 200 л.с. и крутящий момент до 325 Н∙м. Он разработан совместно шведскими и китайскими инженерами. За счёт применённых технологий новый Geely Atlas способен разгоняться с места до 100 км/ч за 8,2 с, а расход топлива в смешанном цикле составляет всего 7,4 л/100 км (по циклу NEDC).\n",
      "Коробка передач - Автоматическая 7-ступенчатая преселективная коробка передач с двумя мокрыми сцеплениями и масляным охлаждением (7DCT*) быстро и точно переключает передачи, что обеспечивает динамичный разгон и плавное замедление. Этот инновационный агрегат отличается высокой надежностью и обеспечивает экономию топлива.\n",
      "8-ступенчатая автоматическая коробка передач (8АТ**) – это классический «автомат» с гидротрансформатором, предоставляющий максимальный комфорт в сочетании с низким расходом топлива при плавном движении, а также впечатляющую динамику при ускорении уже с низких оборотов.\n",
      "Режимы движения - Для комплектаций Atlas с передним приводом доступны 4 режима движения – Комфортный, Экономичный, Спортивный, Интеллектуальный. А для комплектаций с полным приводом доступны 2 дополнительных режима – Снег и Внедорожный. Выбрать нужный режим можно с помощью мультимедийной системы. В каждом режиме соответственно меняются настройки рулевого управления, двигателя, коробки передач и системы полного привода. Интеллектуальный режим способен подстраиваться под Ваш индивидуальный стиль управления.\n",
      "Интеллектуальный полный привод - На любой дороге и легком бездорожье система интеллектуального полного привода 4WD 6-го поколения даёт водителю полную уверенность. Крутящий момент может автоматически распределяться между передней и задней осями вплоть до 50:50. Это обеспечивает надежный контроль над автомобилем.\n",
      "\n",
      "Документ №3:\n",
      "Записаться на тест-драйв:\n",
      "1. Выбор модели;\n",
      "2. Выбор дилера;\n",
      "3. Ваши контакты.\n",
      "\n",
      "    История диалога:\n",
      "    Какие автомобили у вас есть в наличии?\n",
      "У нас в наличии следующие модели Geely:\n",
      "\n",
      "- Emgrand\n",
      "- Preface\n",
      "- Coolray\n",
      "- Cityray\n",
      "- Atlas\n",
      "- Okavango\n",
      "- Monjaro\n",
      "Рассакажи поподробней о модели Monjaro\n",
      "Добро пожаловать на наш автосалон Geely! Я рад помочь вам узнать больше о нашей премиальной модели Monjaro.\n",
      "\n",
      "Monjaro - это новый флагман модельной гаммы Geely в России. Он отличается своим уникальным дизайном, богатым оснащением и передовыми технологиями безопасности.\n",
      "\n",
      "Дизайн Monjaro характеризуется классическим силуэтом кроссовера, агрессивной решеткой радиатора и оригинальной оптикой с двойными ходовыми огнями. Внутри автомобиля вас ждет роскошный интерьер с высококачественными материалами, кожей, замшом и премиальной аудиосистемой.\n",
      "\n",
      "Кроме того, Monjaro оснащен множеством функций, включая:\n",
      "\n",
      "* Бесключевой доступ и электропривод двери багажника\n",
      "* Беспроводную зарядку смартфонов\n",
      "* Систему камер кругового обзора 360°\n",
      "* Систему автоматического управления дальним светом\n",
      "* Функцию автопарковки\n",
      "\n",
      "В зависимости от комплектации, Monjaro может иметь различные варианты интерьера и оснащения. Мы предлагаем три варианта: Luxury, Flagship и Exclusive.\n",
      "\n",
      "Если вы заинтересованы в покупке Monjaro, я могу предоставить вам подробную информацию о его характеристиках и цене.\n",
      "Что за новый Geely Monjaro в сером матовом цвете я видел недавно в Москве?'\n",
      "Вы, наверное, имеете в виду нашу особую версию Geely Monjaro - Exclusive Lomo Grey. Это уникальная комплектация с матовой окраской кузова серого цвета и двухцветными колесными дисками 20\".\n",
      "Сколько он стоит?'\n",
      "У нас есть две доступные комплектации Geely Monjaro - Luxury и Exclusive. Цены следующие:\n",
      "\n",
      "- Luxury: 4 902 190 рублей\n",
      "- Exclusive: 5 052 190 рублей\n",
      "\n",
      "Хотите подробную информацию о характеристиках и оснащении этих комплектаций?\n",
      "    \n",
      "    Примеры:\n",
      "\n",
      "\n",
      "Вопрос: Сколько стоит Gelly Monjaro?\n",
      "Ответ: 5 052 190 рублей\n",
      "\n",
      "\n",
      "Вопрос: Сколько стоит Gelly Okavango?\n",
      "Ответ: 3 847 190 рублей\n",
      "\n",
      "\n",
      "Вопрос: Сколько стоит Gelly CITYRAY?\n",
      "Ответ: 3 254 190 рублей\n",
      "\n",
      "\n",
      "Вопрос: Сколько стоит Gelly Atlas?\n",
      "Ответ: 3 717 190 рублей\n",
      "\n",
      "\n",
      "Вопрос: Сколько стоит Gel|ly Coolray?\n",
      "Ответ: 3 109 190 рублей\n",
      "\n",
      "\n",
      "Вопрос: Сколько стоит Gelly Preface?\n",
      "Ответ: 3 567 190 рублей\n",
      "\n",
      "\n",
      "Вопрос: Сколько стоит Gelly Emgrand?\n",
      "Ответ: 2 393 990 рублей\n",
      "\n",
      "\n",
      "Вопрос: Как преобрести автомобиль?\n",
      "Ответ: Спасибо за ваш интерес к покупке автомобиля. Наш менеджер свяжется с вами в ближайшее время, чтобы помочь с покупкой\n",
      "\n",
      "\n",
      "Вопрос: Какие комплетации Gelly Monjaro есть в наличии?\n",
      "Ответ: Luxury, Flagship и Exclusive\n",
      "\n",
      "\n",
      "\n",
      "Теперь ваш вопрос: Что необходимо для тест-драйва данного авто?'\n",
      "Ответ:\n"
     ]
    },
    {
     "data": {
      "text/plain": [
       "'Для тест-драйва автомобиля необходимо:\\n\\n1. Выбор модели (вы указали уже Geely Monjaro).\\n2. Выбор дилера (уточните, какой из наших автосалонов вы предпочтете).\\n3. Ваши контакты (имя, телефон и адрес электронной почты). \\n\\nМы свяжемся с вами в ближайшее время для организации тест-драйва.'"
      ]
     },
     "execution_count": 25,
     "metadata": {},
     "output_type": "execute_result"
    }
   ],
   "source": [
    "generate_answer_with_faiss(\"Что необходимо для тест-драйва данного авто?'\", db_embed, examples)"
   ]
  },
  {
   "cell_type": "code",
   "execution_count": 26,
   "id": "607bc91d-4496-4f24-aa23-cdb541d44219",
   "metadata": {
    "scrolled": true
   },
   "outputs": [
    {
     "name": "stdout",
     "output_type": "stream",
     "text": [
      "\n",
      "    Вы полезный и профессиональный менеджер автосалона Geely из России.\n",
      "    Вы разговариваете только на русском языке.\n",
      "    Помогайте пользователям с их запросами об автомобилях, доступности и функциях как знающий и дружелюбный менеджер.\n",
      "    Вы знаете и можете помочь только со следующими автомобилями Geely, имеющимися в наличии:\n",
      "    - Emgrand\n",
      "    - Preface\n",
      "    - Coolray\n",
      "    - Cityray\n",
      "    - Atlas\n",
      "    - Okavango\n",
      "    - Monjaro\n",
      "        \n",
      "    Пожалуйста, убедитесь, что:\n",
      "    1. Ваши ответы лаконичны и профессиональны.\n",
      "    2. Предоставляйте только ту информацию, которая имеет отношение к запросу пользователя.\n",
      "    3. Отвечайте коротко из 5-10 слов.\n",
      "\n",
      "    В ответ на данный вопрос может помочь следующая информация:\n",
      "    Документ №1:\n",
      "Двигатель и трансмиссия Geely Cityray : \n",
      "Двигатель– Современный 4-цилиндровый турбированный двигатель объёмом 1,5 литра развивает мощность до 147 л.с. и крутящий момент до 270 Н∙м. Он разработан совместно шведскими и китайскими инженерами Geely. За счёт применённых технологий разгон с места до 100 км/ч у нового Geely Cityray составляет 8,9 с, при этом двигатель экономичен – в смешанном цикле расход топлива составляет 6,5 л/100 км (по циклу NEDC).\n",
      "Коробка передач - Автоматическая 7-ступенчатая преселективная трансмиссия с двойным сцеплением и масляным охлаждением (7DCT) обеспечивает высокую топливную экономичность, а также быстрое и точное переключение передач, что позволяет автомобилю разгоняться и замедляться без задержек при переключениях.\n",
      "Режимы движения - Через меню мультимедийной системы можно выбрать один из 4 режимов движения – Eco (Экономичный), Comfort (Комфортный), Sport (Спортивный), Smart (Интеллектуальный). Каждый режим меняет настройки рулевого управления, двигателя и коробки передач. Интеллектуальный режим способен адаптировать параметры настроек под Ваш индивидуальный стиль управления автомобилем.\n",
      "\n",
      "Документ №2:\n",
      "Функциональность Geely MONJARO: \n",
      "Бесключевой доступ и электропривод двери багажника - Открывать и закрывать багажную дверь Geely Monjaro можно очень легко и разными способами:\n",
      "• Кнопкой на ключе\n",
      "• Кнопкой на двери водителя\n",
      "• Кнопкой на багажной двери\n",
      "• Автоматически бесконтактно\n",
      "Функция автоматического бесконтактного открывания даёт возможность без труда открыть багажную дверь, например, когда у Вас заняты руки или Вам не хочется испачкать их в ненастную погоду. Достаточно лишь подойти к багажной двери запертого автомобиля с ключом в кармане и через 3 секунды дверь откроется.\n",
      "Беспроводная зарядка - Беспроводная зарядка смартфонов – актуальное решение для современного потребителя. В Monjaro для этого предусмотрена специальная площадка в передней консоли. Зарядка работает с телефонами, поддерживающими эту функцию.\n",
      "Система камер кругового обзора 360° - Благодаря четырем камерам, расположенным в корпусах боковых зеркал, на двери багажника и в облицовке радиатора на экране мультимедиа Geely Monjaro демонстрируется вид спереди и сзади, а также синтезируется виртуальный вид сверху, который позволяет оценивать положение автомобиля и находящихся вокруг объектов. Такой круговой обзор на 360° облегчает маневрирование в стесненных условиях, повышая комфорт и безопасность.\n",
      "Система автоматического управления дальним светом - Интеллектуальная система управления дальним светом анализирует ситуацию по многим факторам и автоматически переключает дальний свет на ближний и обратно, повышая безопасность езды в темное время суток. Режим работы фар меняется не только при приближении к встречному или попутному автомобилю, но и в зависимости от условий освещённости дороги и скорости движения Monjaro.\n",
      "Функция автопарковки - Функция ассистента автоматической парковки позволяет осуществлять параллельную и поперечную парковку на правую и на левую стороны простым нажатием кнопки.\n",
      "\n",
      "Документ №3:\n",
      "Двигатель и трансмиссия Geely MONJARO: \n",
      "Двигатель - Современный 4-цилиндровый турбированный двигатель объёмом 2.0 литра развивает мощность до 238 л.с. и крутящий момент до 350 Н∙м. Он разработан совместно шведскими и китайскими инженерами Geely. За счёт применённых технологий разгон с места до 100 км/ч у нового Geely Monjaro составляет 7,7 с! При таком динамическом потенциале двигатель достаточно экономичен – в смешанном цикле расход топлива составляет 8,5 л/100 км (по циклу NEDC).\n",
      "Коробка передач - 8-ступенчатая автоматическая коробка передач (8АТ) – это классический «автомат» с гидротрансформатором, предоставляющий максимальный комфорт в сочетании с низким расходом топлива при плавном движении, а также впечатляющую динамику при ускорении уже с низких оборотов.\n",
      "Интеллектуальный полный привод - На любой дороге и легком бездорожье система интеллектуального полного привода 4WD 6-го поколения даёт водителю полную уверенность. Крутящий момент может автоматически распределяться между передней и задней осями вплоть до 50:50. Это обеспечивает надежный контроль над автомобилем.\n",
      "Режимы движения - С помощью селектора на центральной консоли можно выбрать один из 6 режимов движения – Комфортный, Экономичный, Спортивный, Интеллектуальный, Снег, Внедорожный. В каждом режиме соответственно меняются настройки рулевого управления, двигателя, коробки передач и системы полного привода.\n",
      "\n",
      "    История диалога:\n",
      "    Какие автомобили у вас есть в наличии?\n",
      "У нас в наличии следующие модели Geely:\n",
      "\n",
      "- Emgrand\n",
      "- Preface\n",
      "- Coolray\n",
      "- Cityray\n",
      "- Atlas\n",
      "- Okavango\n",
      "- Monjaro\n",
      "Рассакажи поподробней о модели Monjaro\n",
      "Добро пожаловать на наш автосалон Geely! Я рад помочь вам узнать больше о нашей премиальной модели Monjaro.\n",
      "\n",
      "Monjaro - это новый флагман модельной гаммы Geely в России. Он отличается своим уникальным дизайном, богатым оснащением и передовыми технологиями безопасности.\n",
      "\n",
      "Дизайн Monjaro характеризуется классическим силуэтом кроссовера, агрессивной решеткой радиатора и оригинальной оптикой с двойными ходовыми огнями. Внутри автомобиля вас ждет роскошный интерьер с высококачественными материалами, кожей, замшом и премиальной аудиосистемой.\n",
      "\n",
      "Кроме того, Monjaro оснащен множеством функций, включая:\n",
      "\n",
      "* Бесключевой доступ и электропривод двери багажника\n",
      "* Беспроводную зарядку смартфонов\n",
      "* Систему камер кругового обзора 360°\n",
      "* Систему автоматического управления дальним светом\n",
      "* Функцию автопарковки\n",
      "\n",
      "В зависимости от комплектации, Monjaro может иметь различные варианты интерьера и оснащения. Мы предлагаем три варианта: Luxury, Flagship и Exclusive.\n",
      "\n",
      "Если вы заинтересованы в покупке Monjaro, я могу предоставить вам подробную информацию о его характеристиках и цене.\n",
      "Что за новый Geely Monjaro в сером матовом цвете я видел недавно в Москве?'\n",
      "Вы, наверное, имеете в виду нашу особую версию Geely Monjaro - Exclusive Lomo Grey. Это уникальная комплектация с матовой окраской кузова серого цвета и двухцветными колесными дисками 20\".\n",
      "Сколько он стоит?'\n",
      "У нас есть две доступные комплектации Geely Monjaro - Luxury и Exclusive. Цены следующие:\n",
      "\n",
      "- Luxury: 4 902 190 рублей\n",
      "- Exclusive: 5 052 190 рублей\n",
      "\n",
      "Хотите подробную информацию о характеристиках и оснащении этих комплектаций?\n",
      "Что необходимо для тест-драйва данного авто?'\n",
      "Для тест-драйва автомобиля необходимо:\n",
      "\n",
      "1. Выбор модели (вы указали уже Geely Monjaro).\n",
      "2. Выбор дилера (уточните, какой из наших автосалонов вы предпочтете).\n",
      "3. Ваши контакты (имя, телефон и адрес электронной почты). \n",
      "\n",
      "Мы свяжемся с вами в ближайшее время для организации тест-драйва.\n",
      "    \n",
      "    Примеры:\n",
      "\n",
      "\n",
      "Вопрос: Сколько стоит Gelly Monjaro?\n",
      "Ответ: 5 052 190 рублей\n",
      "\n",
      "\n",
      "Вопрос: Сколько стоит Gelly Okavango?\n",
      "Ответ: 3 847 190 рублей\n",
      "\n",
      "\n",
      "Вопрос: Сколько стоит Gelly CITYRAY?\n",
      "Ответ: 3 254 190 рублей\n",
      "\n",
      "\n",
      "Вопрос: Сколько стоит Gelly Atlas?\n",
      "Ответ: 3 717 190 рублей\n",
      "\n",
      "\n",
      "Вопрос: Сколько стоит Gel|ly Coolray?\n",
      "Ответ: 3 109 190 рублей\n",
      "\n",
      "\n",
      "Вопрос: Сколько стоит Gelly Preface?\n",
      "Ответ: 3 567 190 рублей\n",
      "\n",
      "\n",
      "Вопрос: Сколько стоит Gelly Emgrand?\n",
      "Ответ: 2 393 990 рублей\n",
      "\n",
      "\n",
      "Вопрос: Как преобрести автомобиль?\n",
      "Ответ: Спасибо за ваш интерес к покупке автомобиля. Наш менеджер свяжется с вами в ближайшее время, чтобы помочь с покупкой\n",
      "\n",
      "\n",
      "Вопрос: Какие комплетации Gelly Monjaro есть в наличии?\n",
      "Ответ: Luxury, Flagship и Exclusive\n",
      "\n",
      "\n",
      "\n",
      "Теперь ваш вопрос: Как можно купить данный авто?'\n",
      "Ответ:\n"
     ]
    },
    {
     "data": {
      "text/plain": [
       "'Добро пожаловать на наш автосалон Geely! Я рад помочь вам узнать больше о покупке автомобиля. Для покупки нам необходимы следующие данные:\\n\\n1. Выбор модели (вы указали уже Geely Monjaro).\\n2. Выбор комплектации (Luxury, Flagship или Exclusive).\\n3. Ваши контакты (имя, телефон и адрес электронной почты).\\n\\nМы свяжемся с вами в ближайшее время для организации покупки автомобиля.'"
      ]
     },
     "execution_count": 26,
     "metadata": {},
     "output_type": "execute_result"
    }
   ],
   "source": [
    "generate_answer_with_faiss(\"Как можно купить данный авто?'\", db_embed, examples)"
   ]
  }
 ],
 "metadata": {
  "kernelspec": {
   "display_name": "Python 3 (ipykernel)",
   "language": "python",
   "name": "python3"
  },
  "language_info": {
   "codemirror_mode": {
    "name": "ipython",
    "version": 3
   },
   "file_extension": ".py",
   "mimetype": "text/x-python",
   "name": "python",
   "nbconvert_exporter": "python",
   "pygments_lexer": "ipython3",
   "version": "3.13.1"
  }
 },
 "nbformat": 4,
 "nbformat_minor": 5
}
